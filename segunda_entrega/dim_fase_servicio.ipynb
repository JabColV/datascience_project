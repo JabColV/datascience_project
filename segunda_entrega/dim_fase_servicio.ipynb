{
 "cells": [
  {
   "cell_type": "code",
   "execution_count": 7,
   "metadata": {},
   "outputs": [
    {
     "name": "stdout",
     "output_type": "stream",
     "text": [
      "Requirement already satisfied: scikit-learn in c:\\users\\deica\\appdata\\local\\programs\\python\\python312\\lib\\site-packages (1.5.2)\n",
      "Requirement already satisfied: nltk in c:\\users\\deica\\appdata\\local\\programs\\python\\python312\\lib\\site-packages (3.9.1)\n",
      "Requirement already satisfied: numpy>=1.19.5 in c:\\users\\deica\\appdata\\local\\programs\\python\\python312\\lib\\site-packages (from scikit-learn) (2.1.2)\n",
      "Requirement already satisfied: scipy>=1.6.0 in c:\\users\\deica\\appdata\\local\\programs\\python\\python312\\lib\\site-packages (from scikit-learn) (1.14.1)\n",
      "Requirement already satisfied: joblib>=1.2.0 in c:\\users\\deica\\appdata\\local\\programs\\python\\python312\\lib\\site-packages (from scikit-learn) (1.4.2)\n",
      "Requirement already satisfied: threadpoolctl>=3.1.0 in c:\\users\\deica\\appdata\\local\\programs\\python\\python312\\lib\\site-packages (from scikit-learn) (3.5.0)\n",
      "Requirement already satisfied: click in c:\\users\\deica\\appdata\\local\\programs\\python\\python312\\lib\\site-packages (from nltk) (8.1.7)\n",
      "Requirement already satisfied: regex>=2021.8.3 in c:\\users\\deica\\appdata\\local\\programs\\python\\python312\\lib\\site-packages (from nltk) (2024.9.11)\n",
      "Requirement already satisfied: tqdm in c:\\users\\deica\\appdata\\local\\programs\\python\\python312\\lib\\site-packages (from nltk) (4.66.6)\n",
      "Requirement already satisfied: colorama in c:\\users\\deica\\appdata\\local\\programs\\python\\python312\\lib\\site-packages (from click->nltk) (0.4.6)\n",
      "Note: you may need to restart the kernel to use updated packages.\n"
     ]
    }
   ],
   "source": [
    "pip install scikit-learn nltk "
   ]
  },
  {
   "cell_type": "code",
   "execution_count": 8,
   "metadata": {},
   "outputs": [],
   "source": [
    "import pandas as pd\n",
    "import yaml\n",
    "from sqlalchemy import create_engine\n",
    "from sklearn.feature_extraction.text import TfidfVectorizer\n",
    "from sklearn.cluster import KMeans\n",
    "from nltk.corpus import stopwords"
   ]
  },
  {
   "cell_type": "code",
   "execution_count": 9,
   "metadata": {},
   "outputs": [],
   "source": [
    "with open('config.yml', 'r') as f: #Abrir el archivo en modo de  lectura\n",
    "    config = yaml.safe_load(f) # Crear un diccionario con lo que hay en el archivo\n",
    "    config_db_etl = config['bodega'] #Obtener solo la configuración de la bodega\n",
    "    config_db = config[\"fuente\"] #Obtener solo la configuración de la bodega"
   ]
  },
  {
   "cell_type": "code",
   "execution_count": 10,
   "metadata": {},
   "outputs": [],
   "source": [
    "# Construct the database URL\n",
    "url_db_etl = (f\"{config_db_etl['driver']}://{config_db_etl['user']}:{config_db_etl['password']}@{config_db_etl['host']}:\"\n",
    "           f\"{config_db_etl['port']}/{config_db_etl['db']}\")\n",
    "url_db = (f\"{config_db['driver']}://{config_db['user']}:{config_db['password']}@{config_db['host']}:\"\n",
    "           f\"{config_db['port']}/{config_db['db']}\")"
   ]
  },
  {
   "cell_type": "code",
   "execution_count": 11,
   "metadata": {},
   "outputs": [],
   "source": [
    "# Create the SQLAlchemy Engine\n",
    "etl_conn = create_engine(url_db_etl)\n",
    "olap_conn = create_engine(url_db)"
   ]
  },
  {
   "cell_type": "markdown",
   "metadata": {},
   "source": [
    "## Load Table mensajeria_estadosservicio\n"
   ]
  },
  {
   "cell_type": "code",
   "execution_count": 12,
   "metadata": {},
   "outputs": [
    {
     "data": {
      "text/html": [
       "<div>\n",
       "<style scoped>\n",
       "    .dataframe tbody tr th:only-of-type {\n",
       "        vertical-align: middle;\n",
       "    }\n",
       "\n",
       "    .dataframe tbody tr th {\n",
       "        vertical-align: top;\n",
       "    }\n",
       "\n",
       "    .dataframe thead th {\n",
       "        text-align: right;\n",
       "    }\n",
       "</style>\n",
       "<table border=\"1\" class=\"dataframe\">\n",
       "  <thead>\n",
       "    <tr style=\"text-align: right;\">\n",
       "      <th></th>\n",
       "      <th>id</th>\n",
       "      <th>fecha</th>\n",
       "      <th>hora</th>\n",
       "      <th>foto</th>\n",
       "      <th>observaciones</th>\n",
       "      <th>estado_id</th>\n",
       "      <th>servicio_id</th>\n",
       "      <th>es_prueba</th>\n",
       "      <th>foto_binary</th>\n",
       "    </tr>\n",
       "  </thead>\n",
       "  <tbody>\n",
       "    <tr>\n",
       "      <th>0</th>\n",
       "      <td>1014</td>\n",
       "      <td>2024-01-29</td>\n",
       "      <td>01:13:32</td>\n",
       "      <td>foto</td>\n",
       "      <td>4 tubos</td>\n",
       "      <td>4</td>\n",
       "      <td>226</td>\n",
       "      <td>False</td>\n",
       "      <td>None</td>\n",
       "    </tr>\n",
       "    <tr>\n",
       "      <th>1</th>\n",
       "      <td>1484</td>\n",
       "      <td>2024-01-30</td>\n",
       "      <td>18:45:12</td>\n",
       "      <td>foto</td>\n",
       "      <td>Demora</td>\n",
       "      <td>3</td>\n",
       "      <td>79</td>\n",
       "      <td>True</td>\n",
       "      <td>None</td>\n",
       "    </tr>\n",
       "    <tr>\n",
       "      <th>2</th>\n",
       "      <td>2829</td>\n",
       "      <td>2024-02-06</td>\n",
       "      <td>11:34:04</td>\n",
       "      <td>foto</td>\n",
       "      <td>Compra exitosa</td>\n",
       "      <td>5</td>\n",
       "      <td>613</td>\n",
       "      <td>False</td>\n",
       "      <td>None</td>\n",
       "    </tr>\n",
       "    <tr>\n",
       "      <th>3</th>\n",
       "      <td>1888</td>\n",
       "      <td>2024-02-01</td>\n",
       "      <td>14:50:39</td>\n",
       "      <td>foto</td>\n",
       "      <td>Zzxzz</td>\n",
       "      <td>4</td>\n",
       "      <td>376</td>\n",
       "      <td>False</td>\n",
       "      <td>None</td>\n",
       "    </tr>\n",
       "    <tr>\n",
       "      <th>4</th>\n",
       "      <td>32312</td>\n",
       "      <td>2024-04-06</td>\n",
       "      <td>16:11:21</td>\n",
       "      <td>foto</td>\n",
       "      <td>No</td>\n",
       "      <td>3</td>\n",
       "      <td>7164</td>\n",
       "      <td>True</td>\n",
       "      <td>None</td>\n",
       "    </tr>\n",
       "  </tbody>\n",
       "</table>\n",
       "</div>"
      ],
      "text/plain": [
       "      id      fecha      hora  foto   observaciones  estado_id  servicio_id  \\\n",
       "0   1014 2024-01-29  01:13:32  foto         4 tubos          4          226   \n",
       "1   1484 2024-01-30  18:45:12  foto          Demora          3           79   \n",
       "2   2829 2024-02-06  11:34:04  foto  Compra exitosa          5          613   \n",
       "3   1888 2024-02-01  14:50:39  foto           Zzxzz          4          376   \n",
       "4  32312 2024-04-06  16:11:21  foto              No          3         7164   \n",
       "\n",
       "   es_prueba foto_binary  \n",
       "0      False        None  \n",
       "1       True        None  \n",
       "2      False        None  \n",
       "3      False        None  \n",
       "4       True        None  "
      ]
     },
     "execution_count": 12,
     "metadata": {},
     "output_type": "execute_result"
    }
   ],
   "source": [
    "fase_servicio = pd.read_sql_table(\"mensajeria_estadosservicio\",url_db)\n",
    "fase_servicio.head(5)"
   ]
  }
 ],
 "metadata": {
  "kernelspec": {
   "display_name": "Python 3",
   "language": "python",
   "name": "python3"
  },
  "language_info": {
   "codemirror_mode": {
    "name": "ipython",
    "version": 3
   },
   "file_extension": ".py",
   "mimetype": "text/x-python",
   "name": "python",
   "nbconvert_exporter": "python",
   "pygments_lexer": "ipython3",
   "version": "3.12.0"
  }
 },
 "nbformat": 4,
 "nbformat_minor": 2
}
