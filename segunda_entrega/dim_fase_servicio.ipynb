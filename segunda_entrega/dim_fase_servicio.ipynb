{
 "cells": [
  {
   "cell_type": "code",
   "execution_count": 2,
   "metadata": {},
   "outputs": [],
   "source": [
    "import pandas as pd\n",
    "import yaml\n",
    "from sqlalchemy import create_engine"
   ]
  },
  {
   "cell_type": "code",
   "execution_count": 3,
   "metadata": {},
   "outputs": [],
   "source": [
    "with open('config.yml', 'r') as f: #Abrir el archivo en modo de  lectura\n",
    "    config = yaml.safe_load(f) # Crear un diccionario con lo que hay en el archivo\n",
    "    config_db_etl = config['bodega'] #Obtener solo la configuración de la bodega\n",
    "    config_db = config[\"fuente\"] #Obtener solo la configuración de la bodega"
   ]
  },
  {
   "cell_type": "code",
   "execution_count": 4,
   "metadata": {},
   "outputs": [],
   "source": [
    "# Construct the database URL\n",
    "url_db_etl = (f\"{config_db_etl['driver']}://{config_db_etl['user']}:{config_db_etl['password']}@{config_db_etl['host']}:\"\n",
    "           f\"{config_db_etl['port']}/{config_db_etl['db']}\")\n",
    "url_db = (f\"{config_db['driver']}://{config_db['user']}:{config_db['password']}@{config_db['host']}:\"\n",
    "           f\"{config_db['port']}/{config_db['db']}\")"
   ]
  },
  {
   "cell_type": "code",
   "execution_count": 5,
   "metadata": {},
   "outputs": [],
   "source": [
    "# Create the SQLAlchemy Engine\n",
    "etl_conn = create_engine(url_db_etl)\n",
    "olap_conn = create_engine(url_db)"
   ]
  },
  {
   "cell_type": "markdown",
   "metadata": {},
   "source": [
    "## Load Table mensajeria_estadosservicio\n"
   ]
  },
  {
   "cell_type": "code",
   "execution_count": 6,
   "metadata": {},
   "outputs": [
    {
     "data": {
      "text/html": [
       "<div>\n",
       "<style scoped>\n",
       "    .dataframe tbody tr th:only-of-type {\n",
       "        vertical-align: middle;\n",
       "    }\n",
       "\n",
       "    .dataframe tbody tr th {\n",
       "        vertical-align: top;\n",
       "    }\n",
       "\n",
       "    .dataframe thead th {\n",
       "        text-align: right;\n",
       "    }\n",
       "</style>\n",
       "<table border=\"1\" class=\"dataframe\">\n",
       "  <thead>\n",
       "    <tr style=\"text-align: right;\">\n",
       "      <th></th>\n",
       "      <th>id</th>\n",
       "      <th>nombre</th>\n",
       "      <th>descripcion</th>\n",
       "    </tr>\n",
       "  </thead>\n",
       "  <tbody>\n",
       "    <tr>\n",
       "      <th>0</th>\n",
       "      <td>4</td>\n",
       "      <td>Recogido por mensajero</td>\n",
       "      <td>Recogido por mensajero</td>\n",
       "    </tr>\n",
       "    <tr>\n",
       "      <th>1</th>\n",
       "      <td>5</td>\n",
       "      <td>Entregado en destino</td>\n",
       "      <td>Entregado en destino</td>\n",
       "    </tr>\n",
       "    <tr>\n",
       "      <th>2</th>\n",
       "      <td>3</td>\n",
       "      <td>Con novedad</td>\n",
       "      <td>Tiene novedad</td>\n",
       "    </tr>\n",
       "    <tr>\n",
       "      <th>3</th>\n",
       "      <td>6</td>\n",
       "      <td>Terminado completo</td>\n",
       "      <td>Terminado completo</td>\n",
       "    </tr>\n",
       "    <tr>\n",
       "      <th>4</th>\n",
       "      <td>1</td>\n",
       "      <td>Iniciado</td>\n",
       "      <td>Creado por el usuario</td>\n",
       "    </tr>\n",
       "  </tbody>\n",
       "</table>\n",
       "</div>"
      ],
      "text/plain": [
       "   id                  nombre             descripcion\n",
       "0   4  Recogido por mensajero  Recogido por mensajero\n",
       "1   5    Entregado en destino    Entregado en destino\n",
       "2   3             Con novedad           Tiene novedad\n",
       "3   6      Terminado completo      Terminado completo\n",
       "4   1                Iniciado   Creado por el usuario"
      ]
     },
     "execution_count": 6,
     "metadata": {},
     "output_type": "execute_result"
    }
   ],
   "source": [
    "fase_servicio = pd.read_sql_table(\"mensajeria_estado\",url_db)\n",
    "fase_servicio.head(5)"
   ]
  },
  {
   "cell_type": "markdown",
   "metadata": {},
   "source": [
    "## Load into ETL database"
   ]
  },
  {
   "cell_type": "code",
   "execution_count": 8,
   "metadata": {},
   "outputs": [
    {
     "data": {
      "text/plain": [
       "6"
      ]
     },
     "execution_count": 8,
     "metadata": {},
     "output_type": "execute_result"
    }
   ],
   "source": [
    "fase_servicio.to_sql(\"dim_fase_servicio\", etl_conn, index_label=\"key_fase_servicio\", if_exists=\"replace\")  "
   ]
  }
 ],
 "metadata": {
  "kernelspec": {
   "display_name": "venv",
   "language": "python",
   "name": "python3"
  },
  "language_info": {
   "codemirror_mode": {
    "name": "ipython",
    "version": 3
   },
   "file_extension": ".py",
   "mimetype": "text/x-python",
   "name": "python",
   "nbconvert_exporter": "python",
   "pygments_lexer": "ipython3",
   "version": "3.12.5"
  }
 },
 "nbformat": 4,
 "nbformat_minor": 2
}
