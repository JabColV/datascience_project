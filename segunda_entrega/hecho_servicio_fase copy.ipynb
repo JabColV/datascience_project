{
 "cells": [
  {
   "cell_type": "code",
   "execution_count": null,
   "metadata": {},
   "outputs": [],
   "source": [
    "import pandas as pd\n",
    "import yaml\n",
    "from sqlalchemy import create_engine\n",
    "from datetime import timedelta"
   ]
  },
  {
   "cell_type": "markdown",
   "metadata": {},
   "source": [
    "## Database Connection"
   ]
  },
  {
   "cell_type": "code",
   "execution_count": null,
   "metadata": {},
   "outputs": [],
   "source": [
    "with open('config.yml', 'r') as f: #Abrir el archivo en modo de  lectura\n",
    "    config = yaml.safe_load(f) # Crear un diccionario con lo que hay en el archivo\n",
    "    config_db_etl = config['bodega'] #Obtener solo la configuración de la bodega\n",
    "    config_db = config[\"fuente\"] #Obtener solo la configuración de la bodega"
   ]
  },
  {
   "cell_type": "code",
   "execution_count": null,
   "metadata": {},
   "outputs": [],
   "source": [
    "# Construct the database URL\n",
    "url_db_etl = (f\"{config_db_etl['driver']}://{config_db_etl['user']}:{config_db_etl['password']}@{config_db_etl['host']}:\"\n",
    "           f\"{config_db_etl['port']}/{config_db_etl['db']}\")\n",
    "url_db = (f\"{config_db['driver']}://{config_db['user']}:{config_db['password']}@{config_db['host']}:\"\n",
    "           f\"{config_db['port']}/{config_db['db']}\")"
   ]
  },
  {
   "cell_type": "code",
   "execution_count": null,
   "metadata": {},
   "outputs": [],
   "source": [
    "# Create the SQLAlchemy Engine\n",
    "etl_conn = create_engine(url_db_etl)\n",
    "olap_conn = create_engine(url_db)"
   ]
  },
  {
   "cell_type": "markdown",
   "metadata": {},
   "source": [
    "## Extraction\n"
   ]
  },
  {
   "cell_type": "code",
   "execution_count": null,
   "metadata": {},
   "outputs": [],
   "source": [
    "dim_fase = pd.read_sql_table('dim_fase_servicio', etl_conn) \n",
    "fecha = pd.read_sql_table('dim_fecha', etl_conn)\n",
    "hora = pd.read_sql_table('dim_hora', etl_conn)\n",
    "mensajero = pd.read_sql_table('dim_mensajero', etl_conn)\n",
    "estado_servicio = pd.read_sql_table(\"mensajeria_estadosservicio\",url_db)\n",
    "servicio = pd.read_sql_table(\"mensajeria_servicio\",url_db)"
   ]
  },
  {
   "cell_type": "code",
   "execution_count": null,
   "metadata": {},
   "outputs": [],
   "source": [
    "servicio = servicio[[\"id\", \"fecha_solicitud\", \"hora_solicitud\", \"mensajero_id\"]]\n",
    "servicio.head(5)"
   ]
  },
  {
   "cell_type": "code",
   "execution_count": null,
   "metadata": {},
   "outputs": [],
   "source": [
    "mensajero.head(3)"
   ]
  },
  {
   "cell_type": "code",
   "execution_count": null,
   "metadata": {},
   "outputs": [],
   "source": [
    "estado_servicio.head(5)"
   ]
  },
  {
   "cell_type": "code",
   "execution_count": null,
   "metadata": {},
   "outputs": [],
   "source": [
    "estado_servicio.drop(columns=[\"foto\",\"observaciones\",\"es_prueba\",\"foto_binary\"], inplace=True)\n"
   ]
  },
  {
   "cell_type": "code",
   "execution_count": null,
   "metadata": {},
   "outputs": [],
   "source": [
    "estado_servicio[estado_servicio['estado_id'].isin([1, 2, 3, 4, 5, 6])]['estado_id'].value_counts()\n",
    "estado_servicio.head(5)"
   ]
  },
  {
   "cell_type": "code",
   "execution_count": null,
   "metadata": {},
   "outputs": [],
   "source": [
    "# Convertir la columna fecha a formato datetime si no lo está\n",
    "estado_servicio['fecha'] = pd.to_datetime(estado_servicio['fecha'])\n",
    "\n",
    "# Filtrar el DataFrame para los estados diferentes de 1\n",
    "df_no_estado_1 = estado_servicio[estado_servicio['estado_id'] != 1]\n",
    "\n",
    "# Agrupar por 'id' y 'estado_id', y seleccionar la fila con la fecha más reciente\n",
    "df_no_estado_1_max_fecha = df_no_estado_1.loc[df_no_estado_1.groupby(['id', 'estado_id'])['fecha'].idxmax()]\n",
    "\n",
    "# Filtrar el DataFrame para los registros con estado_id == 1\n",
    "df_estado_1 = estado_servicio[estado_servicio['estado_id'] == 1]\n",
    "\n",
    "# Concatenar ambos DataFrames: los registros con estado_id == 1 y los seleccionados por fecha para los demás\n",
    "estado_servicio_final = pd.concat([df_estado_1, df_no_estado_1_max_fecha])\n",
    "\n",
    "# Ordenar si lo deseas por id y estado_id (opcional)\n",
    "estado_servicio_final = estado_servicio_final.sort_values(by=['id'])\n"
   ]
  },
  {
   "cell_type": "code",
   "execution_count": null,
   "metadata": {},
   "outputs": [],
   "source": [
    "# Ajustar el número de filas y columnas a mostrar\n",
    "pd.set_option('display.max_rows', None)  # Muestra todas las filas\n",
    "pd.set_option('display.max_columns', None)  # Muestra todas las columnas\n",
    "\n",
    "# Ahora imprime el DataFrame completo\n",
    "print(estado_servicio_final)"
   ]
  },
  {
   "cell_type": "code",
   "execution_count": null,
   "metadata": {},
   "outputs": [],
   "source": [
    "total_nan = estado_servicio_final.isna().sum()\n",
    "\n",
    "# Asegurarnos de que las columnas de fecha y hora son de tipo string\n",
    "estado_servicio_final['fecha'] = estado_servicio_final['fecha'].astype(str)\n",
    "estado_servicio_final['hora'] = estado_servicio_final['hora'].astype(str)\n",
    "\n",
    "# Truncar los milisegundos (decimales) de la columna 'hora' si existen\n",
    "estado_servicio_final['hora'] = estado_servicio_final['hora'].str.split('.').str[0]\n",
    "\n",
    "# Convertir las columnas de fecha y hora en una única columna de tipo datetime\n",
    "estado_servicio_final['datetime'] = pd.to_datetime(estado_servicio_final['fecha'] + ' ' + estado_servicio_final['hora'], errors='coerce')\n",
    "\n",
    "# Ordenar el DataFrame por 'servicio_id', 'estado_id' y 'datetime' de forma descendente\n",
    "estado_servicio_final = estado_servicio_final.sort_values(by=['servicio_id', 'estado_id', 'datetime'], ascending=[True, True, False])\n",
    "\n",
    "# Mostrar el resultado\n",
    "estado_servicio_final.head()\n",
    "\n"
   ]
  },
  {
   "cell_type": "code",
   "execution_count": null,
   "metadata": {},
   "outputs": [],
   "source": [
    "print(len(estado_servicio_final))"
   ]
  },
  {
   "cell_type": "markdown",
   "metadata": {},
   "source": [
    "## Transformation"
   ]
  },
  {
   "cell_type": "markdown",
   "metadata": {},
   "source": [
    "### Hour Process"
   ]
  },
  {
   "cell_type": "code",
   "execution_count": null,
   "metadata": {},
   "outputs": [],
   "source": [
    "#estado_servicio_final['hora'] = estado_servicio_final['hora'].astype(str)\n",
    "\n",
    "# Truncar los milisegundos (decimales) de la columna 'hora' si existen\n",
    "#estado_servicio_final['hora'] = estado_servicio_final['hora'].str.split('.').str[0]\n",
    "\n",
    "# Convertir las columnas de fecha y hora en una única columna de tipo datetime\n",
    "#estado_servicio_final['hora'] = pd.to_datetime(estado_servicio_final['hora'], errors='coerce')\n",
    "\n",
    "#estado_servicio_final.head(10)"
   ]
  },
  {
   "cell_type": "markdown",
   "metadata": {},
   "source": [
    "### Date Process"
   ]
  },
  {
   "cell_type": "code",
   "execution_count": null,
   "metadata": {},
   "outputs": [],
   "source": [
    "mensajero.rename(columns={'id':'mensajero_id'}, inplace=True)\n",
    "estado_servicio_final['fecha'] = pd.to_datetime(estado_servicio_final['fecha'], errors='coerce')\n",
    "\n",
    "estado_servicio_final = pd.merge(\n",
    "    estado_servicio_final,\n",
    "    fecha[[\"date\", \"key_fecha\"]],\n",
    "    left_on=\"fecha\",\n",
    "    right_on=\"date\",\n",
    "    how=\"left\"\n",
    ")\n",
    "\n",
    "servicio = pd.merge(servicio, mensajero[[\"mensajero_id\", \"key_mensajero\"]], left_on=\"mensajero_id\", right_on=\"mensajero_id\", how=\"left\")\n",
    "estado_servicio_final.head(5)"
   ]
  },
  {
   "cell_type": "code",
   "execution_count": null,
   "metadata": {},
   "outputs": [],
   "source": [
    "len(servicio)\n",
    "len(estado_servicio)"
   ]
  },
  {
   "cell_type": "markdown",
   "metadata": {},
   "source": [
    "### Phase Process"
   ]
  },
  {
   "cell_type": "code",
   "execution_count": null,
   "metadata": {},
   "outputs": [],
   "source": [
    "# dim_fase.rename(columns={'id':'dim_estado_id'}, inplace=True)\n",
    "# estado_servicio = pd.merge(estado_servicio, dim_fase[[\"dim_estado_id\", \"key_fase_servicio\"]], left_on=\"estado_id\", right_on=\"dim_estado_id\", how=\"left\")\n",
    "# estado_servicio"
   ]
  },
  {
   "cell_type": "code",
   "execution_count": null,
   "metadata": {},
   "outputs": [],
   "source": [
    "fase_iniciado = estado_servicio_final[estado_servicio_final['estado_id'] == 1]\n",
    "fase_mensajero_asignado = estado_servicio_final[estado_servicio_final['estado_id'] == 2]\n",
    "fase_recogido_mensajero = estado_servicio_final[estado_servicio_final['estado_id'] == 4]\n",
    "fase_entregado_destino = estado_servicio_final[estado_servicio_final['estado_id'] == 5]\n",
    "fase_terminado = estado_servicio_final[estado_servicio_final['estado_id'] == 6]\n",
    "\n",
    "fase_iniciado.columns"
   ]
  },
  {
   "cell_type": "code",
   "execution_count": null,
   "metadata": {},
   "outputs": [],
   "source": []
  },
  {
   "cell_type": "code",
   "execution_count": null,
   "metadata": {},
   "outputs": [],
   "source": [
    "\n",
    "fase_iniciado.rename(columns={'fecha':'fecha_inicio', 'hora':'hora_inicio', 'key_fecha':'key_fecha_inicio'}, inplace=True)\n",
    "fase_iniciado = fase_iniciado[['servicio_id','fecha_inicio','hora_inicio','key_fecha_inicio','estado_id']]\n",
    "fase_iniciado.rename(columns={'servicio_id':'id'}, inplace=True)\n",
    "\n",
    "fase_mensajero_asignado.rename(columns={'fecha':'fecha_mensajero_asignado', 'hora':'hora_mensajero_asignado', 'key_fecha':'key_fecha_mensajero_asignado'}, inplace=True)\n",
    "fase_mensajero_asignado = fase_mensajero_asignado[['servicio_id','fecha_mensajero_asignado','hora_mensajero_asignado','key_fecha_mensajero_asignado']]\n",
    "fase_mensajero_asignado.rename(columns={'servicio_id':'id'}, inplace=True)\n",
    "\n",
    "fase_recogido_mensajero.rename(columns={'fecha':'fecha_recogido_mensajero', 'hora':'hora_recogido_mensajero','key_fecha':'key_fecha_recogido_mensajero'}, inplace=True)\n",
    "fase_recogido_mensajero = fase_recogido_mensajero[['servicio_id','fecha_recogido_mensajero','hora_recogido_mensajero','key_fecha_recogido_mensajero']]\n",
    "fase_recogido_mensajero.rename(columns={'servicio_id':'id'}, inplace=True)\n",
    "\n",
    "fase_entregado_destino.rename(columns={'fecha':'fecha_entregado_destino', 'hora':'hora_entregado_destino','key_fecha':'key_fecha_entregado_destino'}, inplace=True)\n",
    "fase_entregado_destino = fase_entregado_destino[['servicio_id','fecha_entregado_destino','hora_entregado_destino','key_fecha_entregado_destino']]\n",
    "fase_entregado_destino.rename(columns={'servicio_id':'id'}, inplace=True)\n",
    "\n",
    "fase_terminado.rename(columns={'fecha':'fecha_terminado', 'hora':'hora_terminado','key_fecha':'key_fecha_terminado'}, inplace=True)\n",
    "fase_terminado = fase_terminado[['servicio_id','fecha_terminado','hora_terminado','key_fecha_terminado']]\n",
    "fase_terminado.rename(columns={'servicio_id':'id'}, inplace=True)"
   ]
  },
  {
   "cell_type": "code",
   "execution_count": null,
   "metadata": {},
   "outputs": [],
   "source": [
    "print(fase_iniciado['id'].duplicated().sum())  # Muestra cuántos duplicados hay\n",
    "print(fase_mensajero_asignado['id'].duplicated().sum())\n",
    "print(fase_recogido_mensajero['id'].duplicated().sum())\n",
    "print(fase_entregado_destino['id'].duplicated().sum())\n",
    "print(fase_terminado['id'].duplicated().sum())"
   ]
  },
  {
   "cell_type": "code",
   "execution_count": null,
   "metadata": {},
   "outputs": [],
   "source": [
    "duplicados = fase_iniciado[fase_iniciado['id'].duplicated(keep=False)]\n",
    "duplicados.head(10)"
   ]
  },
  {
   "cell_type": "code",
   "execution_count": null,
   "metadata": {},
   "outputs": [],
   "source": [
    "duplicados.head(10)"
   ]
  },
  {
   "cell_type": "code",
   "execution_count": null,
   "metadata": {},
   "outputs": [],
   "source": [
    "fase_mensajero_asignado.head(10)"
   ]
  },
  {
   "cell_type": "code",
   "execution_count": null,
   "metadata": {},
   "outputs": [],
   "source": [
    "# fase_iniciado = fase_iniciado.drop_duplicates(subset='id')\n",
    "# fase_mensajero_asignado = fase_mensajero_asignado.drop_duplicates(subset='id')\n",
    "# fase_recogido_mensajero = fase_recogido_mensajero.drop_duplicates(subset='id')\n",
    "# fase_entregado_destino = fase_entregado_destino.drop_duplicates(subset='id')\n",
    "# fase_terminado = fase_terminado.drop_duplicates(subset='id')"
   ]
  },
  {
   "cell_type": "code",
   "execution_count": null,
   "metadata": {},
   "outputs": [],
   "source": [
    "len(fase_terminado)"
   ]
  },
  {
   "cell_type": "code",
   "execution_count": null,
   "metadata": {},
   "outputs": [],
   "source": [
    "servicio = pd.merge(servicio, fase_iniciado[['id', 'fecha_inicio', 'hora_inicio', 'key_fecha_inicio']], left_on=['id', 'fecha_solicitud'], right_on=['id', 'fecha_inicio'], how='left')\n",
    "servicio = pd.merge(servicio, fase_mensajero_asignado[['id','fecha_mensajero_asignado','hora_mensajero_asignado','key_fecha_mensajero_asignado']], left_on=\"id\", right_on=\"id\", how=\"left\")\n",
    "servicio = pd.merge(servicio, fase_recogido_mensajero[['id','fecha_recogido_mensajero','hora_recogido_mensajero','key_fecha_recogido_mensajero']], left_on=\"id\", right_on=\"id\", how=\"left\")\n",
    "servicio = pd.merge(servicio, fase_entregado_destino[['id','fecha_entregado_destino','hora_entregado_destino','key_fecha_entregado_destino']], left_on=\"id\", right_on=\"id\", how=\"left\")\n",
    "servicio = pd.merge(servicio, fase_terminado[['id','fecha_terminado','hora_terminado','key_fecha_terminado']], left_on=\"id\", right_on=\"id\", how=\"left\")\n",
    "servicio.head(10)"
   ]
  },
  {
   "cell_type": "code",
   "execution_count": null,
   "metadata": {},
   "outputs": [],
   "source": [
    "servicio[servicio['id'] == 26]\n",
    "\n"
   ]
  },
  {
   "cell_type": "code",
   "execution_count": null,
   "metadata": {},
   "outputs": [],
   "source": [
    "len(servicio)"
   ]
  },
  {
   "cell_type": "code",
   "execution_count": null,
   "metadata": {},
   "outputs": [],
   "source": [
    "# servicio = servicio.drop_duplicates(subset='id')\n",
    "servicio.groupby([\"id\"]).size()\n",
    "len(servicio)"
   ]
  },
  {
   "cell_type": "code",
   "execution_count": null,
   "metadata": {},
   "outputs": [],
   "source": [
    "servicio.groupby([\"id\",\"estado_id\"]).size()"
   ]
  },
  {
   "cell_type": "code",
   "execution_count": null,
   "metadata": {},
   "outputs": [],
   "source": [
    "servicio[servicio['id'] == 26]"
   ]
  },
  {
   "cell_type": "markdown",
   "metadata": {},
   "source": [
    "### Calculo días"
   ]
  },
  {
   "cell_type": "code",
   "execution_count": null,
   "metadata": {},
   "outputs": [],
   "source": [
    "servicio['dias_mensajero_asignado'] = (servicio['fecha_mensajero_asignado'] - servicio['fecha_inicio']).dt.days.fillna(0)\n",
    "servicio['dias_recogido_mensajero'] = (servicio['fecha_recogido_mensajero'] - servicio['fecha_mensajero_asignado']).dt.days.fillna(0)\n",
    "servicio['dias_entregado_destino'] = (servicio['fecha_entregado_destino'] - servicio['fecha_recogido_mensajero']).dt.days.fillna(0)\n",
    "servicio['dias_terminado'] = (servicio['fecha_terminado'] - servicio['fecha_entregado_destino']).dt.days.fillna(0)\n",
    "# Calcular el promedio general de entrega en días y redondear a 2 decimales\n",
    "servicio['promedio_entrega_general'] = (\n",
    "    (servicio['dias_mensajero_asignado'] + \n",
    "     servicio['dias_recogido_mensajero'] + \n",
    "     servicio['dias_entregado_destino'] + \n",
    "     servicio['dias_terminado']) / 4\n",
    ").round(2)\n",
    "servicio.head(5)"
   ]
  },
  {
   "cell_type": "markdown",
   "metadata": {},
   "source": [
    "### Cálculo Hora"
   ]
  },
  {
   "cell_type": "code",
   "execution_count": null,
   "metadata": {},
   "outputs": [],
   "source": [
    "# Calcular diferencias en horas, redondear a 2 decimales, llenar valores nulos con 0 y tomar valor absoluto\n",
    "servicio['horas_mensajero_asignado'] = ((servicio['hora_mensajero_asignado'] - servicio['hora_inicio']).dt.total_seconds() / 3600).round(2).fillna(0).abs()\n",
    "servicio['horas_recogido_mensajero'] = ((servicio['hora_recogido_mensajero'] - servicio['hora_mensajero_asignado']).dt.total_seconds() / 3600).round(2).fillna(0).abs()\n",
    "servicio['horas_entregado_destino'] = ((servicio['hora_entregado_destino'] - servicio['hora_recogido_mensajero']).dt.total_seconds() / 3600).round(2).fillna(0).abs()\n",
    "servicio['horas_terminado'] = ((servicio['hora_terminado'] - servicio['hora_entregado_destino']).dt.total_seconds() / 3600).round(2).fillna(0).abs()"
   ]
  },
  {
   "cell_type": "code",
   "execution_count": null,
   "metadata": {},
   "outputs": [],
   "source": [
    "servicio.head(5)"
   ]
  },
  {
   "cell_type": "code",
   "execution_count": null,
   "metadata": {},
   "outputs": [],
   "source": [
    "servicio.fillna(-1, inplace=True)"
   ]
  },
  {
   "cell_type": "markdown",
   "metadata": {},
   "source": [
    "## calculo tiempo por fase_servicio"
   ]
  },
  {
   "cell_type": "code",
   "execution_count": null,
   "metadata": {},
   "outputs": [],
   "source": [
    "# # Ordenar por 'servicio_id' y 'fecha'\n",
    "# estado_servicio = estado_servicio.sort_values(by=['servicio_id', 'fecha'])\n",
    "\n",
    "# # Asegurarse de que la columna 'hora' esté en formato timedelta\n",
    "# estado_servicio['hora'] = pd.to_timedelta(estado_servicio['hora'].astype(str))\n",
    "\n",
    "# # Calcular la diferencia en días entre fases consecutivas dentro de cada servicio\n",
    "# estado_servicio['dias_de_demora'] = estado_servicio.groupby('servicio_id')['fecha'].transform(lambda x: x.diff().dt.days)\n",
    "\n",
    "# # asignar el resultado a la columna directamente para evitar errores jeje\n",
    "# estado_servicio['dias_de_demora'] = estado_servicio['dias_de_demora'].fillna(0)\n",
    "\n",
    "# # Calcular la diferencia en horas entre fases consecutivas dentro de cada servicio\n",
    "# estado_servicio['hora_de_demora'] = estado_servicio.groupby('servicio_id')['hora'].transform(lambda x: x.diff())\n",
    "\n",
    "# # Corregir las horas negativas: Si la hora actual es menor que la anterior, agregar 24 horas\n",
    "# estado_servicio['hora_de_demora'] = estado_servicio['hora_de_demora'].apply(lambda x: x if x >= pd.Timedelta(0) else x + pd.Timedelta(days=1))\n",
    "\n",
    "# # Convertir la diferencia en horas\n",
    "# estado_servicio['hora_de_demora'] = estado_servicio['hora_de_demora'].dt.total_seconds() / 3600\n",
    "\n",
    "# # Lo mismo para la columna 'hora_de_demora'\n",
    "# estado_servicio['hora_de_demora'] = estado_servicio['hora_de_demora'].fillna(0)\n",
    "\n",
    "# # Convertir las columnas 'hora' y 'hora_de_demora' a su formato de horas\n",
    "# estado_servicio['hora'] = estado_servicio['hora'].dt.total_seconds() / 3600\n",
    "# estado_servicio['hora_de_demora'] = estado_servicio['hora_de_demora'].apply(lambda x: round(x, 2))  # Redondear a 2 decimales\n",
    "\n",
    "\n",
    "# estado_servicio.head(20)\n"
   ]
  },
  {
   "cell_type": "markdown",
   "metadata": {},
   "source": [
    "## Calculo atributo tiempo promedio general"
   ]
  },
  {
   "cell_type": "code",
   "execution_count": null,
   "metadata": {},
   "outputs": [],
   "source": [
    "# # Convertir 'hora_de_demora' a timedelta si aún no está en el formato adecuado\n",
    "# estado_servicio['hora_de_demora'] = pd.to_timedelta(estado_servicio['hora_de_demora'], unit='h')\n",
    "\n",
    "# # Calcular el tiempo total en días considerando solo las fechas, con dos decimales\n",
    "# estado_servicio['tiempo_total'] = estado_servicio.groupby('servicio_id')['fecha'].transform(lambda x: (x.max() - x.min()).days).round(2)\n",
    "\n",
    "# # Calcular el tiempo total en horas sumando las horas de demora de cada fase por servicio\n",
    "# estado_servicio['tiempo_total_horas'] = estado_servicio.groupby('servicio_id')['hora_de_demora'].transform('sum').dt.total_seconds() / 3600\n",
    "# estado_servicio['tiempo_total_horas'] = estado_servicio['tiempo_total_horas'].round(2)\n",
    "\n",
    "# # Calcular el número de fases por servicio\n",
    "# estado_servicio['numero_fases'] = estado_servicio.groupby('servicio_id')['fecha'].transform('count')\n",
    "\n",
    "# # Calcular el tiempo promedio por fase en días (dividiendo el tiempo total de días entre el número de fases)\n",
    "# estado_servicio['tiempo_promedio_dias'] = (estado_servicio['tiempo_total'] / estado_servicio['numero_fases']).round(2)\n",
    "\n",
    "# # Calcular el tiempo promedio en horas por fase con dos decimales (dividiendo el tiempo total de horas entre el número de fases)\n",
    "# estado_servicio['tiempo_promedio_horas'] = (estado_servicio['tiempo_total_horas'] / estado_servicio['numero_fases']).round(2)\n",
    "\n",
    "# # Convertir las columnas 'hora' y 'hora_de_demora' a su formato de horas\n",
    "# estado_servicio['hora_de_demora'] = estado_servicio['hora_de_demora'].dt.total_seconds() / 3600\n",
    "\n",
    "# # Mostrar los primeros 10 resultados\n",
    "# estado_servicio.head(10) \n"
   ]
  },
  {
   "cell_type": "markdown",
   "metadata": {},
   "source": [
    "## Eliminar columnas no necesarias"
   ]
  },
  {
   "cell_type": "code",
   "execution_count": null,
   "metadata": {},
   "outputs": [],
   "source": [
    "servicio.drop(columns=['mensajero_id','fecha_solicitud','hora_solicitud','fecha_inicio','hora_inicio','fecha_mensajero_asignado','hora_mensajero_asignado','fecha_recogido_mensajero','hora_recogido_mensajero','fecha_entregado_destino','hora_entregado_destino','fecha_terminado','hora_terminado'], inplace=True)\n",
    "servicio.head(10)"
   ]
  },
  {
   "cell_type": "code",
   "execution_count": null,
   "metadata": {},
   "outputs": [],
   "source": [
    "servicio[servicio['id']==24]"
   ]
  },
  {
   "cell_type": "code",
   "execution_count": null,
   "metadata": {},
   "outputs": [],
   "source": [
    "len(servicio)"
   ]
  },
  {
   "cell_type": "markdown",
   "metadata": {},
   "source": [
    "## Load"
   ]
  },
  {
   "cell_type": "code",
   "execution_count": null,
   "metadata": {},
   "outputs": [],
   "source": [
    "servicio.to_sql(\"hecho_accumulating_snapshot\", etl_conn, if_exists=\"replace\", index_label=\"key_servicio_fase\") "
   ]
  }
 ],
 "metadata": {
  "kernelspec": {
   "display_name": "Python 3",
   "language": "python",
   "name": "python3"
  },
  "language_info": {
   "codemirror_mode": {
    "name": "ipython",
    "version": 3
   },
   "file_extension": ".py",
   "mimetype": "text/x-python",
   "name": "python",
   "nbconvert_exporter": "python",
   "pygments_lexer": "ipython3",
   "version": "3.12.0"
  }
 },
 "nbformat": 4,
 "nbformat_minor": 2
}
