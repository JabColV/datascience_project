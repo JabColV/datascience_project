{
 "cells": [
  {
   "cell_type": "code",
   "execution_count": 519,
   "metadata": {},
   "outputs": [],
   "source": [
    "import pandas as pd\n",
    "import yaml\n",
    "from sqlalchemy import create_engine\n",
    "from datetime import timedelta"
   ]
  },
  {
   "cell_type": "markdown",
   "metadata": {},
   "source": [
    "## Database Connection"
   ]
  },
  {
   "cell_type": "code",
   "execution_count": 520,
   "metadata": {},
   "outputs": [],
   "source": [
    "with open('config.yml', 'r') as f: #Abrir el archivo en modo de  lectura\n",
    "    config = yaml.safe_load(f) # Crear un diccionario con lo que hay en el archivo\n",
    "    config_db_etl = config['bodega'] #Obtener solo la configuración de la bodega\n",
    "    config_db = config[\"fuente\"] #Obtener solo la configuración de la bodega"
   ]
  },
  {
   "cell_type": "code",
   "execution_count": 521,
   "metadata": {},
   "outputs": [],
   "source": [
    "# Construct the database URL\n",
    "url_db_etl = (f\"{config_db_etl['driver']}://{config_db_etl['user']}:{config_db_etl['password']}@{config_db_etl['host']}:\"\n",
    "           f\"{config_db_etl['port']}/{config_db_etl['db']}\")\n",
    "url_db = (f\"{config_db['driver']}://{config_db['user']}:{config_db['password']}@{config_db['host']}:\"\n",
    "           f\"{config_db['port']}/{config_db['db']}\")"
   ]
  },
  {
   "cell_type": "code",
   "execution_count": 522,
   "metadata": {},
   "outputs": [],
   "source": [
    "# Create the SQLAlchemy Engine\n",
    "etl_conn = create_engine(url_db_etl)\n",
    "olap_conn = create_engine(url_db)"
   ]
  },
  {
   "cell_type": "code",
   "execution_count": 523,
   "metadata": {},
   "outputs": [],
   "source": [
    "pd.set_option('display.max_columns', None)  # Mostrar todas las columnas sin saltos\n",
    "pd.set_option('display.width', 1000)  "
   ]
  },
  {
   "cell_type": "markdown",
   "metadata": {},
   "source": [
    "## Extraction\n"
   ]
  },
  {
   "cell_type": "code",
   "execution_count": 524,
   "metadata": {},
   "outputs": [],
   "source": [
    "fase_servicio = pd.read_sql_table('dim_fase_servicio', etl_conn) "
   ]
  },
  {
   "cell_type": "code",
   "execution_count": 525,
   "metadata": {},
   "outputs": [
    {
     "name": "stdout",
     "output_type": "stream",
     "text": [
      "key_fase_servicio         0\n",
      "id                        0\n",
      "fecha                     0\n",
      "hora                      0\n",
      "foto                      0\n",
      "observaciones             1\n",
      "estado_id                 0\n",
      "servicio_id               0\n",
      "es_prueba                 0\n",
      "foto_binary          128132\n",
      "dtype: int64\n",
      "Index(['key_fase_servicio', 'id', 'fecha', 'hora', 'foto', 'observaciones', 'estado_id', 'servicio_id', 'es_prueba', 'foto_binary'], dtype='object')\n"
     ]
    }
   ],
   "source": [
    "total_nan = fase_servicio.isna().sum()\n",
    "print(total_nan)\n",
    "print(fase_servicio.columns)"
   ]
  },
  {
   "cell_type": "code",
   "execution_count": 526,
   "metadata": {},
   "outputs": [
    {
     "name": "stdout",
     "output_type": "stream",
     "text": [
      "128402\n"
     ]
    }
   ],
   "source": [
    "print(len(fase_servicio))"
   ]
  },
  {
   "cell_type": "code",
   "execution_count": null,
   "metadata": {},
   "outputs": [],
   "source": []
  },
  {
   "cell_type": "markdown",
   "metadata": {},
   "source": [
    "## calculo tiempo por fase_servicio"
   ]
  },
  {
   "cell_type": "code",
   "execution_count": null,
   "metadata": {},
   "outputs": [
    {
     "name": "stdout",
     "output_type": "stream",
     "text": [
      "       key_fase_servicio      fecha       hora  estado_id  servicio_id  dias_de_demora  hora_de_demora\n",
      "301                  301 2023-09-19  16.371667          1            7             0.0            0.00\n",
      "667                  667 2023-10-13  17.855556          2            7            24.0            1.48\n",
      "686                  686 2023-10-31  12.046901          4            7            18.0           18.19\n",
      "687                  687 2023-10-31  17.131944          5            7             0.0            5.09\n",
      "688                  688 2023-10-31  12.266667          6            7             0.0           19.13\n",
      "302                  302 2023-09-19  16.501389          1            8             0.0            0.00\n",
      "792                  792 2023-12-20  20.245278          2            8            92.0            3.74\n",
      "5902                5902 2024-02-14  15.571667          4            8            56.0           19.33\n",
      "34483              34483 2024-04-09  16.143056          5            8            55.0            0.57\n",
      "304                  304 2023-09-19  16.501389          1            9             0.0            0.00\n",
      "843                  843 2023-12-28  19.550278          2            9           100.0            3.05\n",
      "305                  305 2023-09-19  16.597778          1           10             0.0            0.00\n",
      "845                  845 2023-12-28  19.551944          2           10           100.0            2.95\n",
      "7386                7386 2024-02-18   0.363056          4           10            52.0            4.81\n",
      "18046              18045 2024-03-10   9.974167          5           10            21.0            9.61\n",
      "306                  306 2023-09-19  16.631667          1           11             0.0            0.00\n",
      "766                  766 2023-12-09  13.233056          2           11            81.0           20.60\n",
      "2153                2153 2024-01-31  10.498611          4           11            53.0           21.27\n",
      "307                  307 2023-09-19  16.821389          1           12             0.0            0.00\n",
      "659                  659 2023-10-07  13.796111          2           12            18.0           20.97\n"
     ]
    }
   ],
   "source": [
    "import pandas as pd\n",
    "\n",
    "# Ordenar por 'servicio_id' y 'fecha'\n",
    "fase_servicio = fase_servicio.sort_values(by=['servicio_id', 'fecha'])\n",
    "\n",
    "# Asegurarse de que la columna 'hora' esté en formato timedelta\n",
    "fase_servicio['hora'] = pd.to_timedelta(fase_servicio['hora'].astype(str))\n",
    "\n",
    "# Calcular la diferencia en días entre fases consecutivas dentro de cada servicio\n",
    "fase_servicio['dias_de_demora'] = fase_servicio.groupby('servicio_id')['fecha'].transform(lambda x: x.diff().dt.days)\n",
    "\n",
    "# asignar el resultado a la columna directamente para evitar errores jeje\n",
    "fase_servicio['dias_de_demora'] = fase_servicio['dias_de_demora'].fillna(0)\n",
    "\n",
    "# Calcular la diferencia en horas entre fases consecutivas dentro de cada servicio\n",
    "fase_servicio['hora_de_demora'] = fase_servicio.groupby('servicio_id')['hora'].transform(lambda x: x.diff())\n",
    "\n",
    "# Corregir las horas negativas: Si la hora actual es menor que la anterior, agregar 24 horas\n",
    "fase_servicio['hora_de_demora'] = fase_servicio['hora_de_demora'].apply(lambda x: x if x >= pd.Timedelta(0) else x + pd.Timedelta(days=1))\n",
    "\n",
    "# Convertir la diferencia en horas\n",
    "fase_servicio['hora_de_demora'] = fase_servicio['hora_de_demora'].dt.total_seconds() / 3600\n",
    "\n",
    "# Lo mismo para la columna 'hora_de_demora'\n",
    "fase_servicio['hora_de_demora'] = fase_servicio['hora_de_demora'].fillna(0)\n",
    "\n",
    "# Convertir las columnas 'hora' y 'hora_de_demora' a su formato de horas\n",
    "fase_servicio['hora'] = fase_servicio['hora'].dt.total_seconds() / 3600\n",
    "fase_servicio['hora_de_demora'] = fase_servicio['hora_de_demora'].apply(lambda x: round(x, 2))  # Redondear a 2 decimales\n",
    "\n",
    "\n",
    "fase_servicio = fase_servicio[[\"key_fase_servicio\", \"fecha\", \"hora\", \"estado_id\", \"servicio_id\", \"dias_de_demora\", \"hora_de_demora\"]]\n",
    "\n",
    "\n",
    "fase_servicio.head(20)\n"
   ]
  },
  {
   "cell_type": "markdown",
   "metadata": {},
   "source": [
    "## Calculo atributo tiempo promedio general"
   ]
  },
  {
   "cell_type": "code",
   "execution_count": null,
   "metadata": {},
   "outputs": [
    {
     "name": "stdout",
     "output_type": "stream",
     "text": [
      "       key_fase_servicio      fecha       hora  estado_id  servicio_id  dias_de_demora  hora_de_demora  tiempo_total  numero_fases  tiempo_promedio_dias  tiempo_promedio_horas\n",
      "301                  301 2023-09-19  16.371667          1            7             0.0            0.00            42             5                     8                    201\n",
      "667                  667 2023-10-13  17.855556          2            7            24.0            1.48            42             5                     8                    201\n",
      "686                  686 2023-10-31  12.046901          4            7            18.0           18.19            42             5                     8                    201\n",
      "687                  687 2023-10-31  17.131944          5            7             0.0            5.09            42             5                     8                    201\n",
      "688                  688 2023-10-31  12.266667          6            7             0.0           19.13            42             5                     8                    201\n",
      "302                  302 2023-09-19  16.501389          1            8             0.0            0.00           203             4                    50                   1218\n",
      "792                  792 2023-12-20  20.245278          2            8            92.0            3.74           203             4                    50                   1218\n",
      "5902                5902 2024-02-14  15.571667          4            8            56.0           19.33           203             4                    50                   1218\n",
      "34483              34483 2024-04-09  16.143056          5            8            55.0            0.57           203             4                    50                   1218\n",
      "304                  304 2023-09-19  16.501389          1            9             0.0            0.00           100             2                    50                   1200\n"
     ]
    }
   ],
   "source": [
    "\n",
    "\n",
    "# Calcular el tiempo total transcurrido desde la primera hasta la última fase para cada servicio\n",
    "fase_servicio['tiempo_total'] = fase_servicio.groupby('servicio_id')['fecha'].transform(lambda x: (x.max() - x.min()).days)\n",
    "\n",
    "# Calcular el número de fases por servicio\n",
    "fase_servicio['numero_fases'] = fase_servicio.groupby('servicio_id')['fecha'].transform('count')\n",
    "\n",
    "# Calcular el tiempo promedio por fase en días (convertir de horas a días)\n",
    "fase_servicio['tiempo_promedio_dias'] = fase_servicio['tiempo_total'] // fase_servicio['numero_fases']\n",
    "\n",
    "# Calcular el tiempo promedio en horas (total de horas)\n",
    "fase_servicio['tiempo_promedio_horas'] = (fase_servicio['tiempo_total'] * 24) // fase_servicio['numero_fases']\n",
    "\n",
    "\n",
    "fase_servicio.head(10)\n",
    "\n"
   ]
  },
  {
   "cell_type": "markdown",
   "metadata": {},
   "source": [
    "## Load"
   ]
  },
  {
   "cell_type": "code",
   "execution_count": 529,
   "metadata": {},
   "outputs": [
    {
     "data": {
      "text/plain": [
       "402"
      ]
     },
     "execution_count": 529,
     "metadata": {},
     "output_type": "execute_result"
    }
   ],
   "source": [
    "fase_servicio.to_sql(\"hecho_servicio_fase\", etl_conn, if_exists=\"replace\", index_label=\"key_servicio_fase\") "
   ]
  }
 ],
 "metadata": {
  "kernelspec": {
   "display_name": "Python 3",
   "language": "python",
   "name": "python3"
  },
  "language_info": {
   "codemirror_mode": {
    "name": "ipython",
    "version": 3
   },
   "file_extension": ".py",
   "mimetype": "text/x-python",
   "name": "python",
   "nbconvert_exporter": "python",
   "pygments_lexer": "ipython3",
   "version": "3.12.0"
  }
 },
 "nbformat": 4,
 "nbformat_minor": 2
}
